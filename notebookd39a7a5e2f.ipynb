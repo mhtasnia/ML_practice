{
  "metadata": {
    "kernelspec": {
      "display_name": "Python 3",
      "language": "python",
      "name": "python3"
    },
    "language_info": {
      "name": "python",
      "version": "3.10.14",
      "mimetype": "text/x-python",
      "codemirror_mode": {
        "name": "ipython",
        "version": 3
      },
      "pygments_lexer": "ipython3",
      "nbconvert_exporter": "python",
      "file_extension": ".py"
    },
    "kaggle": {
      "accelerator": "none",
      "dataSources": [
        {
          "sourceId": 38454,
          "sourceType": "datasetVersion",
          "datasetId": 2709
        },
        {
          "sourceId": 260251,
          "sourceType": "datasetVersion",
          "datasetId": 108980
        }
      ],
      "isInternetEnabled": false,
      "language": "python",
      "sourceType": "notebook",
      "isGpuEnabled": false
    },
    "colab": {
      "name": "notebookd39a7a5e2f",
      "provenance": [],
      "include_colab_link": true
    }
  },
  "nbformat_minor": 0,
  "nbformat": 4,
  "cells": [
    {
      "cell_type": "markdown",
      "metadata": {
        "id": "view-in-github",
        "colab_type": "text"
      },
      "source": [
        "<a href=\"https://colab.research.google.com/github/mhtasnia/ML_practice/blob/main/notebookd39a7a5e2f.ipynb\" target=\"_parent\"><img src=\"https://colab.research.google.com/assets/colab-badge.svg\" alt=\"Open In Colab\"/></a>"
      ]
    },
    {
      "source": [
        "\n",
        "# IMPORTANT: RUN THIS CELL IN ORDER TO IMPORT YOUR KAGGLE DATA SOURCES\n",
        "# TO THE CORRECT LOCATION (/kaggle/input) IN YOUR NOTEBOOK,\n",
        "# THEN FEEL FREE TO DELETE THIS CELL.\n",
        "# NOTE: THIS NOTEBOOK ENVIRONMENT DIFFERS FROM KAGGLE'S PYTHON\n",
        "# ENVIRONMENT SO THERE MAY BE MISSING LIBRARIES USED BY YOUR\n",
        "# NOTEBOOK.\n",
        "\n",
        "import os\n",
        "import sys\n",
        "from tempfile import NamedTemporaryFile\n",
        "from urllib.request import urlopen\n",
        "from urllib.parse import unquote, urlparse\n",
        "from urllib.error import HTTPError\n",
        "from zipfile import ZipFile\n",
        "import tarfile\n",
        "import shutil\n",
        "\n",
        "CHUNK_SIZE = 40960\n",
        "DATA_SOURCE_MAPPING = 'melbourne-housing-snapshot:https%3A%2F%2Fstorage.googleapis.com%2Fkaggle-data-sets%2F2709%2F38454%2Fbundle%2Farchive.zip%3FX-Goog-Algorithm%3DGOOG4-RSA-SHA256%26X-Goog-Credential%3Dgcp-kaggle-com%2540kaggle-161607.iam.gserviceaccount.com%252F20241012%252Fauto%252Fstorage%252Fgoog4_request%26X-Goog-Date%3D20241012T071451Z%26X-Goog-Expires%3D259200%26X-Goog-SignedHeaders%3Dhost%26X-Goog-Signature%3D9e4b5ddf4a7927d887ee1401d8822569db9570b73cdaf4b60853998824adeaa0d72b2994262b9cdcf46ce4d6897c2f75bd4afee4340745ec1c0715f5ae242e09b43d7e68b99119f426068efaa8773ee2755e24e236b697f06e57aa1f411158ce87bc48eeef7ad8ecf72d335f80368787cb3bbe4eede77dd27315eec926e0a1078e78e223eb4cc62e474695bac19b1835b2aa892d3d2de6c5c0799f3f2edafd9484a9bff204309c83cb1485f4d3b200ddd068c4fe1dbda849c85c3c7ad3c3b9df32c39a33dbf25629803f8be3ca3f51426c94d896f22f2b0ef519d1a58d0233c1bac5b04b2463af17b8b56309ee135e6219af080da54bf1415b8a3256a8c77672,home-data-for-ml-course:https%3A%2F%2Fstorage.googleapis.com%2Fkaggle-data-sets%2F108980%2F260251%2Fbundle%2Farchive.zip%3FX-Goog-Algorithm%3DGOOG4-RSA-SHA256%26X-Goog-Credential%3Dgcp-kaggle-com%2540kaggle-161607.iam.gserviceaccount.com%252F20241012%252Fauto%252Fstorage%252Fgoog4_request%26X-Goog-Date%3D20241012T071452Z%26X-Goog-Expires%3D259200%26X-Goog-SignedHeaders%3Dhost%26X-Goog-Signature%3D4736f7a3920dfcb7d8b539af88c826c83c23725b5c9cbaa379a46f140cf31949aa7afaf21249c186a62ba6627913b6efadcc5bfb38354c4de8173125fbd4967f78fd5abce5db16c49ca4cefd5e2da072d7c8f551e8235c8f708f06a7066f16e517cf42ec71a956a8af9a221b9d71fd92554b36fa817304c066fb8a4c459b04b574fdc5e1b5107d4e31d741313eb9aa7298687d888fab7d1941c9de528310c1abe7156c3c0b56e4597db0cbbe637b8685bb9877bcb44c60fb7a27e93e2af019daef41fc4236288207bc13b74f0541a4425641b057485c9cc6214cb10bd605f8d394e8c4e54832e4f6384403f8d403f9a36e1427a19132b485d837865b6bf235ae'\n",
        "\n",
        "KAGGLE_INPUT_PATH='/kaggle/input'\n",
        "KAGGLE_WORKING_PATH='/kaggle/working'\n",
        "KAGGLE_SYMLINK='kaggle'\n",
        "\n",
        "!umount /kaggle/input/ 2> /dev/null\n",
        "shutil.rmtree('/kaggle/input', ignore_errors=True)\n",
        "os.makedirs(KAGGLE_INPUT_PATH, 0o777, exist_ok=True)\n",
        "os.makedirs(KAGGLE_WORKING_PATH, 0o777, exist_ok=True)\n",
        "\n",
        "try:\n",
        "  os.symlink(KAGGLE_INPUT_PATH, os.path.join(\"..\", 'input'), target_is_directory=True)\n",
        "except FileExistsError:\n",
        "  pass\n",
        "try:\n",
        "  os.symlink(KAGGLE_WORKING_PATH, os.path.join(\"..\", 'working'), target_is_directory=True)\n",
        "except FileExistsError:\n",
        "  pass\n",
        "\n",
        "for data_source_mapping in DATA_SOURCE_MAPPING.split(','):\n",
        "    directory, download_url_encoded = data_source_mapping.split(':')\n",
        "    download_url = unquote(download_url_encoded)\n",
        "    filename = urlparse(download_url).path\n",
        "    destination_path = os.path.join(KAGGLE_INPUT_PATH, directory)\n",
        "    try:\n",
        "        with urlopen(download_url) as fileres, NamedTemporaryFile() as tfile:\n",
        "            total_length = fileres.headers['content-length']\n",
        "            print(f'Downloading {directory}, {total_length} bytes compressed')\n",
        "            dl = 0\n",
        "            data = fileres.read(CHUNK_SIZE)\n",
        "            while len(data) > 0:\n",
        "                dl += len(data)\n",
        "                tfile.write(data)\n",
        "                done = int(50 * dl / int(total_length))\n",
        "                sys.stdout.write(f\"\\r[{'=' * done}{' ' * (50-done)}] {dl} bytes downloaded\")\n",
        "                sys.stdout.flush()\n",
        "                data = fileres.read(CHUNK_SIZE)\n",
        "            if filename.endswith('.zip'):\n",
        "              with ZipFile(tfile) as zfile:\n",
        "                zfile.extractall(destination_path)\n",
        "            else:\n",
        "              with tarfile.open(tfile.name) as tarfile:\n",
        "                tarfile.extractall(destination_path)\n",
        "            print(f'\\nDownloaded and uncompressed: {directory}')\n",
        "    except HTTPError as e:\n",
        "        print(f'Failed to load (likely expired) {download_url} to path {destination_path}')\n",
        "        continue\n",
        "    except OSError as e:\n",
        "        print(f'Failed to load {download_url} to path {destination_path}')\n",
        "        continue\n",
        "\n",
        "print('Data source import complete.')\n"
      ],
      "metadata": {
        "id": "M9ITJMW7lYN4"
      },
      "cell_type": "code",
      "outputs": [],
      "execution_count": null
    },
    {
      "cell_type": "markdown",
      "source": [
        "**[Machine Learning Course Home Page](https://www.kaggle.com/learn/machine-learning)**\n",
        "\n",
        "---\n"
      ],
      "metadata": {
        "id": "zEnfNqvBlYN_"
      }
    },
    {
      "cell_type": "markdown",
      "source": [
        "This exercise will test your ability to read a data file and understand statistics about the data.\n",
        "\n",
        "In later exercises, you will apply techniques to filter the data, build a machine learning model, and iteratively improve your model.\n",
        "\n",
        "The course examples use data from Melbourne. To ensure you can apply these techniques on your own, you will have to apply them to a new dataset (with house prices from Iowa).\n",
        "\n",
        "The exercises use a \"notebook\" coding environment.  In case you are unfamiliar with notebooks, we have a [90-second intro video](https://www.youtube.com/watch?v=4C2qMnaIKL4).\n",
        "\n",
        "# Exercises\n",
        "\n",
        "Run the following cell to set up code-checking, which will verify your work as you go."
      ],
      "metadata": {
        "id": "8ExEVGotlYOC"
      }
    },
    {
      "cell_type": "code",
      "source": [
        "# Set up code checking\n",
        "from learntools.core import binder\n",
        "binder.bind(globals())\n",
        "from learntools.machine_learning.ex2 import *\n",
        "print(\"Setup Complete\")"
      ],
      "metadata": {
        "trusted": true,
        "execution": {
          "iopub.status.busy": "2024-10-12T06:56:53.067409Z",
          "iopub.execute_input": "2024-10-12T06:56:53.06784Z",
          "iopub.status.idle": "2024-10-12T06:56:54.411014Z",
          "shell.execute_reply.started": "2024-10-12T06:56:53.067789Z",
          "shell.execute_reply": "2024-10-12T06:56:54.408129Z"
        },
        "id": "2smnla6plYOD"
      },
      "outputs": [],
      "execution_count": null
    },
    {
      "cell_type": "markdown",
      "source": [
        "## Step 1: Loading Data\n",
        "Read the Iowa data file into a Pandas DataFrame called `home_data`."
      ],
      "metadata": {
        "id": "Hw72YuwtlYOE"
      }
    },
    {
      "cell_type": "code",
      "source": [
        "import math\n",
        "import pandas as pd\n",
        "\n",
        "# Path of the file to read\n",
        "iowa_file_path = '../input/home-data-for-ml-course/train.csv'\n",
        "\n",
        "# Fill in the line below to read the file into a variable home_data\n",
        "home_data = pd.read_csv(iowa_file_path)\n",
        "\n",
        "# Call line below with no argument to check that you've loaded the data correctly\n",
        "step_1.check()"
      ],
      "metadata": {
        "trusted": true,
        "execution": {
          "iopub.status.busy": "2024-10-12T07:09:24.485888Z",
          "iopub.execute_input": "2024-10-12T07:09:24.48631Z",
          "iopub.status.idle": "2024-10-12T07:09:24.544081Z",
          "shell.execute_reply.started": "2024-10-12T07:09:24.486269Z",
          "shell.execute_reply": "2024-10-12T07:09:24.542872Z"
        },
        "id": "PMNIyNNdlYOF"
      },
      "outputs": [],
      "execution_count": null
    },
    {
      "cell_type": "code",
      "source": [
        "# Lines below will give you a hint or solution code\n",
        "step_1.hint()\n",
        "step_1.solution()"
      ],
      "metadata": {
        "trusted": true,
        "execution": {
          "iopub.status.busy": "2024-10-12T07:09:27.173524Z",
          "iopub.execute_input": "2024-10-12T07:09:27.174Z",
          "iopub.status.idle": "2024-10-12T07:09:27.19084Z",
          "shell.execute_reply.started": "2024-10-12T07:09:27.173959Z",
          "shell.execute_reply": "2024-10-12T07:09:27.189414Z"
        },
        "id": "cwUv8mnhlYOF"
      },
      "outputs": [],
      "execution_count": null
    },
    {
      "cell_type": "markdown",
      "source": [
        "## Step 2: Review The Data\n",
        "Use the command you learned to view summary statistics of the data. Then fill in variables to answer the following questions"
      ],
      "metadata": {
        "id": "-_Yd3Sj5lYOG"
      }
    },
    {
      "cell_type": "code",
      "source": [
        "# Print summary statistics in next line\n",
        "home_data.describe()"
      ],
      "metadata": {
        "trusted": true,
        "execution": {
          "iopub.status.busy": "2024-10-12T07:09:30.241825Z",
          "iopub.execute_input": "2024-10-12T07:09:30.242315Z",
          "iopub.status.idle": "2024-10-12T07:09:30.347024Z",
          "shell.execute_reply.started": "2024-10-12T07:09:30.242273Z",
          "shell.execute_reply": "2024-10-12T07:09:30.345834Z"
        },
        "id": "x35Xn_BklYOH"
      },
      "outputs": [],
      "execution_count": null
    },
    {
      "cell_type": "code",
      "source": [
        "# What is the average lot size (rounded to nearest integer)?\n",
        "avg_lot_size = math.ceil(home_data.describe()[\"LotArea\"][\"mean\"])\n",
        "\n",
        "# As of today, how old is the newest home (current year - the date in which it was built)\n",
        "newest_home_age = 2024 - home_data.describe()[\"YearBuilt\"][\"max\"]\n",
        "# Checks your answers\n",
        "step_2.check()"
      ],
      "metadata": {
        "trusted": true,
        "execution": {
          "iopub.status.busy": "2024-10-12T07:10:26.395704Z",
          "iopub.execute_input": "2024-10-12T07:10:26.396173Z",
          "iopub.status.idle": "2024-10-12T07:10:26.54865Z",
          "shell.execute_reply.started": "2024-10-12T07:10:26.396132Z",
          "shell.execute_reply": "2024-10-12T07:10:26.547522Z"
        },
        "id": "m78F8XVdlYOH"
      },
      "outputs": [],
      "execution_count": null
    },
    {
      "cell_type": "code",
      "source": [
        "step_2.hint()\n",
        "step_2.solution()"
      ],
      "metadata": {
        "trusted": true,
        "execution": {
          "iopub.status.busy": "2024-10-12T06:58:57.81855Z",
          "iopub.execute_input": "2024-10-12T06:58:57.819132Z",
          "iopub.status.idle": "2024-10-12T06:58:57.835283Z",
          "shell.execute_reply.started": "2024-10-12T06:58:57.819085Z",
          "shell.execute_reply": "2024-10-12T06:58:57.833845Z"
        },
        "id": "qGPnoDoAlYOI"
      },
      "outputs": [],
      "execution_count": null
    },
    {
      "cell_type": "markdown",
      "source": [
        "## Think About Your Data\n",
        "\n",
        "The newest house in your data isn't that new.  A few potential explanations for this:\n",
        "1. They haven't built new houses where this data was collected.\n",
        "1. The data was collected a long time ago. Houses built after the data publication wouldn't show up.\n",
        "\n",
        "If the reason is explanation #1 above, does that affect your trust in the model you build with this data? What about if it is reason #2?\n",
        "\n",
        "How could you dig into the data to see which explanation is more plausible?\n",
        "\n",
        "Check out this **[discussion thread](https://www.kaggle.com/learn-forum/60581)** to see what others think or to add your ideas.\n",
        "\n",
        "# Keep Going\n",
        "\n",
        "You are ready for **[Your First Machine Learning Model](https://www.kaggle.com/dansbecker/your-first-machine-learning-model).**\n"
      ],
      "metadata": {
        "id": "EA6EeMUElYOI"
      }
    },
    {
      "cell_type": "markdown",
      "source": [
        "---\n",
        "**[Machine Learning Course Home Page](https://www.kaggle.com/learn/machine-learning)**\n",
        "\n"
      ],
      "metadata": {
        "id": "r3sWrImDlYOJ"
      }
    }
  ]
}